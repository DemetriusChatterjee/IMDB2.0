{
 "cells": [
  {
   "cell_type": "markdown",
   "id": "2e3592d3",
   "metadata": {},
   "source": [
    "## Initial setup\n",
    "Use CLIPModel, OpenAI's pretrained model for processing videos (vectorizes them)."
   ]
  },
  {
   "cell_type": "code",
   "execution_count": 9,
   "id": "088bf0db",
   "metadata": {},
   "outputs": [],
   "source": [
    "import cv2\n",
    "import torch\n",
    "from transformers import CLIPProcessor, CLIPModel\n",
    "import numpy as np"
   ]
  },
  {
   "cell_type": "code",
   "execution_count": 2,
   "id": "2c163e1a",
   "metadata": {},
   "outputs": [
    {
     "name": "stderr",
     "output_type": "stream",
     "text": [
      "Using a slow image processor as `use_fast` is unset and a slow processor was saved with this model. `use_fast=True` will be the default behavior in v4.52, even if the model was saved with a slow processor. This will result in minor differences in outputs. You'll still be able to use a slow processor with `use_fast=False`.\n"
     ]
    },
    {
     "name": "stdout",
     "output_type": "stream",
     "text": [
      "Model loaded\n"
     ]
    }
   ],
   "source": [
    "# Load model\n",
    "model = CLIPModel.from_pretrained(\"openai/clip-vit-base-patch32\")\n",
    "processor = CLIPProcessor.from_pretrained(\"openai/clip-vit-base-patch32\")\n",
    "\n",
    "print(\"Model loaded\")"
   ]
  },
  {
   "cell_type": "markdown",
   "id": "55058a18",
   "metadata": {},
   "source": [
    "### Define vectorize()\n",
    "- Takes in a video input (cap: VideoCapture)\n",
    "- Sample every several frames of the video and process"
   ]
  },
  {
   "cell_type": "code",
   "execution_count": 5,
   "id": "cd02f821",
   "metadata": {},
   "outputs": [],
   "source": [
    "def vectorize(cap):\n",
    "    frame_vectors = []\n",
    "    frame_rate = cap.get(cv2.CAP_PROP_FPS)\n",
    "    frame_interval = int(frame_rate) if frame_rate > 0 else 1\n",
    "\n",
    "    frame_idx = 0\n",
    "    while True:\n",
    "        ret, frame = cap.read()\n",
    "        if not ret:\n",
    "            break\n",
    "        if frame_idx % frame_interval == 0:\n",
    "            # print(f\"Processing frame {frame_idx}\")\n",
    "\n",
    "            rgb = cv2.cvtColor(frame, cv2.COLOR_BGR2RGB)\n",
    "            inputs = processor(images=rgb, return_tensors=\"pt\")\n",
    "            with torch.no_grad():\n",
    "                embedding = model.get_image_features(**inputs)\n",
    "            frame_vectors.append(embedding.squeeze().cpu().numpy())\n",
    "        frame_idx += 1\n",
    "\n",
    "    cap.release()\n",
    "\n",
    "    return frame_vectors"
   ]
  },
  {
   "cell_type": "markdown",
   "id": "18eb4ccf",
   "metadata": {},
   "source": [
    "### Initial testing data\n",
    "*The Fellowship of the Ring* and *The Two Towers* are movies in the Lord of the Rings franchise, so they should be similar."
   ]
  },
  {
   "cell_type": "code",
   "execution_count": 7,
   "id": "f48cf2e5",
   "metadata": {},
   "outputs": [
    {
     "name": "stdout",
     "output_type": "stream",
     "text": [
      "manchester_by_the_sea\n",
      "Video vector shape: (512,)\n",
      "fellowship_of_the_ring\n",
      "Video vector shape: (512,)\n",
      "the_two_towers\n",
      "Video vector shape: (512,)\n"
     ]
    }
   ],
   "source": [
    "# Open video\n",
    "videos = [\"manchester_by_the_sea\", \"fellowship_of_the_ring\", \"the_two_towers\"]\n",
    "vectors = {}\n",
    "\n",
    "for v in videos:\n",
    "    cap = cv2.VideoCapture(f\"ex_trailers/{v}.mp4\")\n",
    "    print(v)\n",
    "\n",
    "    # Combine frame vectors (mean pooling)\n",
    "    video_vector = np.mean(np.stack(vectorize(cap)), axis=0)\n",
    "    print(\"Video vector shape:\", video_vector.shape)\n",
    "\n",
    "    vectors[v] = video_vector"
   ]
  },
  {
   "cell_type": "code",
   "execution_count": 8,
   "id": "81b911dd",
   "metadata": {},
   "outputs": [
    {
     "name": "stdout",
     "output_type": "stream",
     "text": [
      "manchester_by_the_sea fellowship_of_the_ring similarity: [[0.8736533]]\n",
      "manchester_by_the_sea the_two_towers similarity: [[0.8699611]]\n",
      "fellowship_of_the_ring the_two_towers similarity: [[0.9678031]]\n"
     ]
    }
   ],
   "source": [
    "from sklearn.metrics.pairwise import cosine_similarity\n",
    "\n",
    "for i, v1 in enumerate(videos[:-1]):\n",
    "    for v2 in videos[i+1:]:\n",
    "        print(f\"{v1} {v2} similarity: {cosine_similarity([vectors[v1]], [vectors[v2]])}\")"
   ]
  },
  {
   "cell_type": "markdown",
   "id": "f3c8d38d",
   "metadata": {},
   "source": [
    "## More fine-tuned applications\n",
    "CLIPModel is a great general-purpose model, but we're trying to be more specific to movie trailers."
   ]
  }
 ],
 "metadata": {
  "kernelspec": {
   "display_name": "venv",
   "language": "python",
   "name": "python3"
  },
  "language_info": {
   "codemirror_mode": {
    "name": "ipython",
    "version": 3
   },
   "file_extension": ".py",
   "mimetype": "text/x-python",
   "name": "python",
   "nbconvert_exporter": "python",
   "pygments_lexer": "ipython3",
   "version": "3.13.2"
  }
 },
 "nbformat": 4,
 "nbformat_minor": 5
}
